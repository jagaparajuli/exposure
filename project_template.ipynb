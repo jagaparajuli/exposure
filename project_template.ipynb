{
 "cells": [
  {
   "cell_type": "markdown",
   "metadata": {},
   "source": [
    "# Project: Iterators and Iterable Containers"
   ]
  },
  {
   "cell_type": "markdown",
   "metadata": {},
   "source": [
    "## Author Info\n",
    "+ **Full Name:** Your Name Goes Here\n",
    "+ **Email:** Your Email Goes Here"
   ]
  },
  {
   "cell_type": "markdown",
   "metadata": {},
   "source": [
    "*** \n",
    "## Install and Import Packages, Modules, and Functions"
   ]
  },
  {
   "cell_type": "code",
   "execution_count": 15,
   "metadata": {},
   "outputs": [],
   "source": [
    "# Import packages and module\n",
    "# Import with every Kernel restart\n",
    "\n",
    "# YOUR CODE GOES HERE\n",
    "import io"
   ]
  },
  {
   "cell_type": "markdown",
   "metadata": {},
   "source": [
    "***\n",
    "## How to Save the Session as PDF File\n",
    "\n",
    "1. Generate the HTML file of your completed:\n",
    "    - Click on `File --> Download as ` and select `HTML` in the File menu\n",
    "    \n",
    "2. Convert the HTML file into the PDF file:\n",
    "    - Go to the folder you saved the HTML file to\n",
    "    - Right Mouse Click on saved HTML file\n",
    "    - Select `Open with` and choose your web browser, e.g., Google Chrome\n",
    "    - From the web browser, right mouse click and select `Print` and choose `Save as PDF` option"
   ]
  },
  {
   "cell_type": "markdown",
   "metadata": {},
   "source": [
    "In this assignment, you will practice Python **iterators** for analysis of the Home Mortgage at North Carolin dataset available in the `data` folder."
   ]
  },
  {
   "cell_type": "markdown",
   "metadata": {},
   "source": [
    "## Step-0: Set-up the project environment"
   ]
  },
  {
   "cell_type": "code",
   "execution_count": 2,
   "metadata": {},
   "outputs": [],
   "source": [
    "pd.set_option ('display.max_columns', 50)\n",
    "pd.set_option ('display.max_rows', 50)"
   ]
  },
  {
   "cell_type": "markdown",
   "metadata": {},
   "source": [
    "***\n",
    "## Step-1: Load and Examine Home Mortgage Data\n",
    "+ Load `home_mortgage_NC.csv` from the `data` subfolder into a `df` DataFrame:\n",
    "    - Ignore the warning signs upon reading the data\n",
    "+ Print the number of rows and columns:\n",
    "    - What type of object is returned: tuple or list?\n",
    "    - What symbols give you the hint about the object type?\n",
    "+ Display the top 3 rows"
   ]
  },
  {
   "cell_type": "code",
   "execution_count": null,
   "metadata": {},
   "outputs": [],
   "source": [
    "# YOUR CODE GOES HERE\n",
    "df.head(3)"
   ]
  },
  {
   "cell_type": "code",
   "execution_count": null,
   "metadata": {},
   "outputs": [],
   "source": [
    "# YOUR CODE GOES HERE"
   ]
  },
  {
   "cell_type": "markdown",
   "metadata": {},
   "source": [
    "***\n",
    "## Step-2: Examine the missing values with `.info()`\n",
    "+ Report if the there are rows with the missing values\n",
    "+ Read help on `df.info()` method\n",
    "    - What attributes (if any) are returned by the method?\n",
    "+ Are there columns with at least one missing values?\n",
    "+ Are there columns with all the values being missing?"
   ]
  },
  {
   "cell_type": "code",
   "execution_count": null,
   "metadata": {},
   "outputs": [],
   "source": [
    "# YOUR CODE GOES HERE"
   ]
  },
  {
   "cell_type": "code",
   "execution_count": null,
   "metadata": {},
   "outputs": [],
   "source": [
    "# YOUR CODE GOES HERE"
   ]
  },
  {
   "cell_type": "markdown",
   "metadata": {},
   "source": [
    "***\n",
    "## Step-3: What if Missing Value Rows and Columns are Removed?\n",
    "+ Read help on the `.dropna()` method:\n",
    "    - Pay attention to the input parameter `axis`\n",
    "    - What is the default value of this parameter?\n",
    "+ Apply the `.dropna()` method with the default value of `axis` and store the resulting DataFrame as `df_nn_0`\n",
    "+ Print the number of rows and columns in the `df_nn_0` DataFrame\n",
    "    - How many rows are left?\n",
    "+ Report the missingness profile for `df_nn_0` using `.info()`\n",
    "+ Change the default value for `axis` to the other value:\n",
    "    - What is the other value of the `axis` parameter?\n",
    "+ Store the result of the `.dropna()` call with the other value for `axis` in `df_nn_1`\n",
    "+ Print the number of rows and columns in `df_nn_1`\n",
    "    - How many rows are left?\n",
    "    - How mnay columns have been removed?\n",
    "+ Report the missingness profile for `df_nn_1` using `.info()`\n",
    "+ What are the lessons learned from this step?"
   ]
  },
  {
   "cell_type": "code",
   "execution_count": null,
   "metadata": {},
   "outputs": [],
   "source": [
    "# YOUR CODE GOES HERE"
   ]
  },
  {
   "cell_type": "markdown",
   "metadata": {},
   "source": [
    "***\n",
    "## Step-4: Read the Missingness Profile into the Text\n",
    "+ The `df.info()` method prints the profile info on the missing values onto the screen\n",
    "    - It does NOT return the object with any information contained\n",
    "    - Validate this this statement is correct\n",
    "    - What is the return type of the object returned by `df.info()`\n",
    "+ Because `df.info()` prints its results onto the screen, the goal of this step is to redirect the output into a string buffer and extract all its content as a text, i.e., the object of type `str`:\n",
    "    - Examine the code that redirects output into a `profile_str` object:\n",
    "        * What module is imported to support this functionality?\n",
    "        * What function from this module is used to provide this functionality?\n",
    "    - Check the type of `profile_str` using the proper function call\n",
    "    - Check the size of the `profile_str` using `len()` function\n",
    "    - Print `profile_str` content using the proper function call\n",
    "    - What **symbols** indicate about the resulting type of the `profile_str` object?"
   ]
  },
  {
   "cell_type": "code",
   "execution_count": null,
   "metadata": {},
   "outputs": [],
   "source": [
    "# YOUR CODE GOES HERE"
   ]
  },
  {
   "cell_type": "code",
   "execution_count": null,
   "metadata": {},
   "outputs": [],
   "source": []
  },
  {
   "cell_type": "code",
   "execution_count": 16,
   "metadata": {},
   "outputs": [],
   "source": [
    "# Examine this code\n",
    "buffer = io.StringIO()\n",
    "df.info(buf=buffer)\n",
    "profile_str = buffer.getvalue()"
   ]
  },
  {
   "cell_type": "code",
   "execution_count": 17,
   "metadata": {},
   "outputs": [],
   "source": [
    "# YOUR CODE GOES HERE"
   ]
  },
  {
   "cell_type": "markdown",
   "metadata": {},
   "source": [
    "***\n",
    "## Step-5: Convert Text Profile into List Object\n",
    "+ The `\\n` character displayed in the output cell for `profile_str` below as a **new line character**\n",
    "+ Use the `.split()` method for `str` type to split the `profile_str` into a list object, called `profile_list`:\n",
    "    + Read help on `.split()` method\n",
    "    * Make sure the specify `\\n` as the value for the parameter `sep`, namely `sep = '\\n'`\n",
    "    * Which symbols indicated that `profile_list` is indeed the list?\n",
    "    * Validate the type of `profile_list` with the proper function call\n",
    "+ What is the size of the `profile_list`?\n",
    "    * Which function have you used to compute the number of items in this list?\n"
   ]
  },
  {
   "cell_type": "code",
   "execution_count": 20,
   "metadata": {},
   "outputs": [
    {
     "data": {
      "text/plain": [
       "\"<class 'pandas.core.frame.DataFrame'>\\nRangeIndex: 203848 entries, 0 to 203847\\nData columns (total 47 columns):\\ntract_to_msamd_income             203722 non-null float64\\nrate_spread                       13173 non-null float64\\npopulation                        203722 non-null float64\\nminority_population               203722 non-null float64\\nnumber_of_owner_occupied_units    203722 non-null float64\\nnumber_of_1_to_4_family_units     203722 non-null float64\\nloan_amount_000s                  203848 non-null int64\\nhud_median_family_income          203722 non-null float64\\napplicant_income_000s             193458 non-null float64\\nstate_name                        203848 non-null object\\nstate_abbr                        203848 non-null object\\nsequence_number                   0 non-null float64\\nrespondent_id                     203848 non-null object\\npurchaser_type_name               203848 non-null object\\nproperty_type_name                203848 non-null object\\npreapproval_name                  203848 non-null object\\nowner_occupancy_name              203848 non-null object\\nmsamd_name                        173986 non-null object\\nloan_type_name                    203848 non-null object\\nloan_purpose_name                 203848 non-null object\\nlien_status_name                  203848 non-null object\\nhoepa_status_name                 203848 non-null object\\nedit_status_name                  0 non-null float64\\ndenial_reason_name_3              0 non-null float64\\ndenial_reason_name_2              0 non-null float64\\ndenial_reason_name_1              0 non-null float64\\ncounty_name                       203733 non-null object\\nco_applicant_sex_name             203848 non-null object\\nco_applicant_race_name_5          2 non-null object\\nco_applicant_race_name_4          2 non-null object\\nco_applicant_race_name_3          25 non-null object\\nco_applicant_race_name_2          343 non-null object\\nco_applicant_race_name_1          203848 non-null object\\nco_applicant_ethnicity_name       203848 non-null object\\ncensus_tract_number               203722 non-null float64\\nas_of_year                        203848 non-null int64\\napplication_date_indicator        0 non-null float64\\napplicant_sex_name                203848 non-null object\\napplicant_race_name_5             6 non-null object\\napplicant_race_name_4             15 non-null object\\napplicant_race_name_3             92 non-null object\\napplicant_race_name_2             1093 non-null object\\napplicant_race_name_1             203848 non-null object\\napplicant_ethnicity_name          203848 non-null object\\nagency_name                       203848 non-null object\\nagency_abbr                       203848 non-null object\\naction_taken_name                 203848 non-null object\\ndtypes: float64(15), int64(2), object(30)\\nmemory usage: 73.1+ MB\\n\""
      ]
     },
     "execution_count": 20,
     "metadata": {},
     "output_type": "execute_result"
    }
   ],
   "source": [
    "profile_str"
   ]
  },
  {
   "cell_type": "code",
   "execution_count": 24,
   "metadata": {},
   "outputs": [
    {
     "name": "stdout",
     "output_type": "stream",
     "text": [
      "53\n"
     ]
    }
   ],
   "source": [
    "# Check your answer with mine\n",
    "print (len (profile_list))"
   ]
  },
  {
   "cell_type": "markdown",
   "metadata": {},
   "source": [
    "***\n",
    "## Step-6: Access the Parts of the Profile List\n",
    "+ Indexing and slicing will be covered in detail in the next session\n",
    "+ As a preview, examine the provided code snippet for indexing:\n",
    "    - Which symbol has been used to indicate the access to the first and last elements of the list that contain information and not empty line(s)?\n",
    "    - Which values indicated that the first or last element is being accessed?\n",
    "    - Is indexing zero-based, i.e., the first element has an index of zero?\n",
    "+ As a preview, examine the provided code snippet for slicing:\n",
    "    - Which symbol is used to indicate the slice of the list, or a sub-list, of interest called `roi_list`\n",
    "    - What is the size of the `roi_list`?\n",
    "    - Is the size equal to the number of columns in `df`?"
   ]
  },
  {
   "cell_type": "code",
   "execution_count": 26,
   "metadata": {},
   "outputs": [
    {
     "name": "stdout",
     "output_type": "stream",
     "text": [
      "<class 'pandas.core.frame.DataFrame'>\n",
      "memory usage: 73.1+ MB\n"
     ]
    }
   ],
   "source": [
    "# Examine the code snippet for indexing, or accessing individual item\n",
    "print (profile_list [ 0 ])\n",
    "print (profile_list [ 51 ])"
   ]
  },
  {
   "cell_type": "code",
   "execution_count": 32,
   "metadata": {},
   "outputs": [
    {
     "name": "stdout",
     "output_type": "stream",
     "text": [
      "47\n",
      "(203848, 47)\n"
     ]
    },
    {
     "data": {
      "text/plain": [
       "['tract_to_msamd_income             203722 non-null float64',\n",
       " 'rate_spread                       13173 non-null float64',\n",
       " 'population                        203722 non-null float64',\n",
       " 'minority_population               203722 non-null float64',\n",
       " 'number_of_owner_occupied_units    203722 non-null float64',\n",
       " 'number_of_1_to_4_family_units     203722 non-null float64',\n",
       " 'loan_amount_000s                  203848 non-null int64',\n",
       " 'hud_median_family_income          203722 non-null float64',\n",
       " 'applicant_income_000s             193458 non-null float64',\n",
       " 'state_name                        203848 non-null object',\n",
       " 'state_abbr                        203848 non-null object',\n",
       " 'sequence_number                   0 non-null float64',\n",
       " 'respondent_id                     203848 non-null object',\n",
       " 'purchaser_type_name               203848 non-null object',\n",
       " 'property_type_name                203848 non-null object',\n",
       " 'preapproval_name                  203848 non-null object',\n",
       " 'owner_occupancy_name              203848 non-null object',\n",
       " 'msamd_name                        173986 non-null object',\n",
       " 'loan_type_name                    203848 non-null object',\n",
       " 'loan_purpose_name                 203848 non-null object',\n",
       " 'lien_status_name                  203848 non-null object',\n",
       " 'hoepa_status_name                 203848 non-null object',\n",
       " 'edit_status_name                  0 non-null float64',\n",
       " 'denial_reason_name_3              0 non-null float64',\n",
       " 'denial_reason_name_2              0 non-null float64',\n",
       " 'denial_reason_name_1              0 non-null float64',\n",
       " 'county_name                       203733 non-null object',\n",
       " 'co_applicant_sex_name             203848 non-null object',\n",
       " 'co_applicant_race_name_5          2 non-null object',\n",
       " 'co_applicant_race_name_4          2 non-null object',\n",
       " 'co_applicant_race_name_3          25 non-null object',\n",
       " 'co_applicant_race_name_2          343 non-null object',\n",
       " 'co_applicant_race_name_1          203848 non-null object',\n",
       " 'co_applicant_ethnicity_name       203848 non-null object',\n",
       " 'census_tract_number               203722 non-null float64',\n",
       " 'as_of_year                        203848 non-null int64',\n",
       " 'application_date_indicator        0 non-null float64',\n",
       " 'applicant_sex_name                203848 non-null object',\n",
       " 'applicant_race_name_5             6 non-null object',\n",
       " 'applicant_race_name_4             15 non-null object',\n",
       " 'applicant_race_name_3             92 non-null object',\n",
       " 'applicant_race_name_2             1093 non-null object',\n",
       " 'applicant_race_name_1             203848 non-null object',\n",
       " 'applicant_ethnicity_name          203848 non-null object',\n",
       " 'agency_name                       203848 non-null object',\n",
       " 'agency_abbr                       203848 non-null object',\n",
       " 'action_taken_name                 203848 non-null object']"
      ]
     },
     "execution_count": 32,
     "metadata": {},
     "output_type": "execute_result"
    }
   ],
   "source": [
    "# Examine the code snipper for slicing, or extracting the roi_list, region of interest\n",
    "roi_list = profile_list [ 3 : 50 ]\n",
    "print (len (roi_list))\n",
    "print (df.shape)\n",
    "roi_list"
   ]
  },
  {
   "cell_type": "markdown",
   "metadata": {},
   "source": [
    "***\n",
    "## Step-6: Iterate over `roi_list`\n",
    "+ Write a `for`-loop to iterate over each element in `roi_list`\n",
    "+ Inside of the `for`-loop, print the list item\n",
    "    - How many columns are in each printed row?"
   ]
  },
  {
   "cell_type": "code",
   "execution_count": 30,
   "metadata": {},
   "outputs": [],
   "source": [
    "# YOUR CODE GOES HERE"
   ]
  },
  {
   "cell_type": "markdown",
   "metadata": {},
   "source": [
    "***\n",
    "## Step-7: Split each item in the `roi_list` into four objects\n",
    "+ The `roi_list` contains items corresponding to one row displayed by the `.info()` method:\n",
    "    - Each row contains four columns seperated by spaces\n",
    "+ Iterate over each item in the list and perform the following processing:\n",
    "    - Split each item of the `roi_list` using `.split()` method\n",
    "    - Using the **list unpacking** return the results of the splitting into four objects:\n",
    "        * `col`, `obj_size`, `label`, and `obj_type`\n",
    "        * The first two are provided, add the code for the other two returned objects\n",
    "    - Print each unpacked item on a new line\n",
    "    - Print a delimeter line after processing each row item in the loop\n",
    "    - Examine how the provided output looks like for the first two items in the `roi_list`      "
   ]
  },
  {
   "cell_type": "code",
   "execution_count": null,
   "metadata": {},
   "outputs": [],
   "source": [
    "# YOUR CODE GOES HERE"
   ]
  },
  {
   "cell_type": "code",
   "execution_count": 29,
   "metadata": {},
   "outputs": [],
   "source": []
  },
  {
   "cell_type": "markdown",
   "metadata": {},
   "source": [
    "***\n",
    "## Step-8: Create Four Lists from the `roi_list`\n",
    "+ The goal is to create four lists:\n",
    "    - `col_names_list`: to store the first column of all the column / feature names\n",
    "    - `sizes_list`: to store the number of non-null elements in the corresponding column\n",
    "    - `label_list`: to store the label `non-null`\n",
    "    - `types_list`: to store the type of objects this column has, e.g. int64, float64, etc.\n",
    "+ Step 8.A: To create these lists, they have to be first initialized to be empty lists:\n",
    "    - the first list is initialized for you\n",
    "    - do the same for the othe four lists\n",
    "+ Step 8.B: Update the lists in the for-loop:\n",
    "    - Iterate over each item in the list and perform the following processing:\n",
    "    - Split each item of the `roi_list` using `.split()` method as in Step-7\n",
    "        * Using the **list unpacking** return the results of the splitting into four objects: `col`, `obj_size`, `label`, and `obj_type\n",
    "    - Add each of the unpacked objects to the list using the `.append()` method:\n",
    "        * e.g., `col_names_list.append (col)`\n",
    "\n",
    "+ Examine the the provided code snippets that display the first three items from each list using slicing       "
   ]
  },
  {
   "cell_type": "code",
   "execution_count": 37,
   "metadata": {},
   "outputs": [],
   "source": [
    "# Step 8.A: Initialize the lists\n",
    "col_names_list = []\n",
    "\n",
    "#YOUR CODE GOES HERE\n",
    "\n",
    "# Step 8.B: Update the lists in the for-loop\n",
    "# YOUR CODE GOES HERE"
   ]
  },
  {
   "cell_type": "code",
   "execution_count": 39,
   "metadata": {},
   "outputs": [
    {
     "name": "stdout",
     "output_type": "stream",
     "text": [
      "['tract_to_msamd_income', 'rate_spread', 'population']\n",
      "['203722', '13173', '203722']\n",
      "['non-null', 'non-null', 'non-null']\n",
      "['float64', 'float64', 'float64']\n"
     ]
    }
   ],
   "source": [
    "# Examine the output of the first 3 list slices\n",
    "print (col_names_list [ 0 : 3])\n",
    "print (sizes_list [ 0 : 3])\n",
    "print (label_list [ 0 : 3])\n",
    "print (types_list [ 0 : 3])"
   ]
  },
  {
   "cell_type": "markdown",
   "metadata": {},
   "source": [
    "***\n",
    "## Step-9: Create a DataFrame from the Lists\n",
    "+ We will use the list (zip (multiple_lists)) to zip the four lists side-by-side and create a Pandas DataFrame using these four zipped lists\n",
    "+ Examine the code that creates the DataFrame\n",
    "+ Change the column names using `df_roi.columns` to assign the values from the list of column labels"
   ]
  },
  {
   "cell_type": "code",
   "execution_count": 52,
   "metadata": {},
   "outputs": [
    {
     "data": {
      "text/html": [
       "<div>\n",
       "<style scoped>\n",
       "    .dataframe tbody tr th:only-of-type {\n",
       "        vertical-align: middle;\n",
       "    }\n",
       "\n",
       "    .dataframe tbody tr th {\n",
       "        vertical-align: top;\n",
       "    }\n",
       "\n",
       "    .dataframe thead th {\n",
       "        text-align: right;\n",
       "    }\n",
       "</style>\n",
       "<table border=\"1\" class=\"dataframe\">\n",
       "  <thead>\n",
       "    <tr style=\"text-align: right;\">\n",
       "      <th></th>\n",
       "      <th>0</th>\n",
       "      <th>1</th>\n",
       "      <th>2</th>\n",
       "      <th>3</th>\n",
       "    </tr>\n",
       "  </thead>\n",
       "  <tbody>\n",
       "    <tr>\n",
       "      <th>0</th>\n",
       "      <td>tract_to_msamd_income</td>\n",
       "      <td>203722</td>\n",
       "      <td>non-null</td>\n",
       "      <td>float64</td>\n",
       "    </tr>\n",
       "    <tr>\n",
       "      <th>1</th>\n",
       "      <td>rate_spread</td>\n",
       "      <td>13173</td>\n",
       "      <td>non-null</td>\n",
       "      <td>float64</td>\n",
       "    </tr>\n",
       "    <tr>\n",
       "      <th>2</th>\n",
       "      <td>population</td>\n",
       "      <td>203722</td>\n",
       "      <td>non-null</td>\n",
       "      <td>float64</td>\n",
       "    </tr>\n",
       "    <tr>\n",
       "      <th>3</th>\n",
       "      <td>minority_population</td>\n",
       "      <td>203722</td>\n",
       "      <td>non-null</td>\n",
       "      <td>float64</td>\n",
       "    </tr>\n",
       "    <tr>\n",
       "      <th>4</th>\n",
       "      <td>number_of_owner_occupied_units</td>\n",
       "      <td>203722</td>\n",
       "      <td>non-null</td>\n",
       "      <td>float64</td>\n",
       "    </tr>\n",
       "  </tbody>\n",
       "</table>\n",
       "</div>"
      ],
      "text/plain": [
       "                                0       1         2        3\n",
       "0           tract_to_msamd_income  203722  non-null  float64\n",
       "1                     rate_spread   13173  non-null  float64\n",
       "2                      population  203722  non-null  float64\n",
       "3             minority_population  203722  non-null  float64\n",
       "4  number_of_owner_occupied_units  203722  non-null  float64"
      ]
     },
     "execution_count": 52,
     "metadata": {},
     "output_type": "execute_result"
    }
   ],
   "source": [
    "# Examine the code snippet to create a DataFrame from four lists\n",
    "df_roi = pd.DataFrame (list (zip (col_names_list, sizes_list, label_list, types_list)))\n",
    "df_roi.head()"
   ]
  },
  {
   "cell_type": "code",
   "execution_count": null,
   "metadata": {},
   "outputs": [],
   "source": [
    "# YOUR CODE to Change Column Names"
   ]
  },
  {
   "cell_type": "code",
   "execution_count": 54,
   "metadata": {},
   "outputs": [
    {
     "name": "stdout",
     "output_type": "stream",
     "text": [
      "Index(['feature', 'size', 'label', 'type'], dtype='object')\n"
     ]
    },
    {
     "data": {
      "text/html": [
       "<div>\n",
       "<style scoped>\n",
       "    .dataframe tbody tr th:only-of-type {\n",
       "        vertical-align: middle;\n",
       "    }\n",
       "\n",
       "    .dataframe tbody tr th {\n",
       "        vertical-align: top;\n",
       "    }\n",
       "\n",
       "    .dataframe thead th {\n",
       "        text-align: right;\n",
       "    }\n",
       "</style>\n",
       "<table border=\"1\" class=\"dataframe\">\n",
       "  <thead>\n",
       "    <tr style=\"text-align: right;\">\n",
       "      <th></th>\n",
       "      <th>feature</th>\n",
       "      <th>size</th>\n",
       "      <th>label</th>\n",
       "      <th>type</th>\n",
       "    </tr>\n",
       "  </thead>\n",
       "  <tbody>\n",
       "    <tr>\n",
       "      <th>0</th>\n",
       "      <td>tract_to_msamd_income</td>\n",
       "      <td>203722</td>\n",
       "      <td>non-null</td>\n",
       "      <td>float64</td>\n",
       "    </tr>\n",
       "    <tr>\n",
       "      <th>1</th>\n",
       "      <td>rate_spread</td>\n",
       "      <td>13173</td>\n",
       "      <td>non-null</td>\n",
       "      <td>float64</td>\n",
       "    </tr>\n",
       "    <tr>\n",
       "      <th>2</th>\n",
       "      <td>population</td>\n",
       "      <td>203722</td>\n",
       "      <td>non-null</td>\n",
       "      <td>float64</td>\n",
       "    </tr>\n",
       "    <tr>\n",
       "      <th>3</th>\n",
       "      <td>minority_population</td>\n",
       "      <td>203722</td>\n",
       "      <td>non-null</td>\n",
       "      <td>float64</td>\n",
       "    </tr>\n",
       "    <tr>\n",
       "      <th>4</th>\n",
       "      <td>number_of_owner_occupied_units</td>\n",
       "      <td>203722</td>\n",
       "      <td>non-null</td>\n",
       "      <td>float64</td>\n",
       "    </tr>\n",
       "  </tbody>\n",
       "</table>\n",
       "</div>"
      ],
      "text/plain": [
       "                          feature    size     label     type\n",
       "0           tract_to_msamd_income  203722  non-null  float64\n",
       "1                     rate_spread   13173  non-null  float64\n",
       "2                      population  203722  non-null  float64\n",
       "3             minority_population  203722  non-null  float64\n",
       "4  number_of_owner_occupied_units  203722  non-null  float64"
      ]
     },
     "execution_count": 54,
     "metadata": {},
     "output_type": "execute_result"
    }
   ],
   "source": [
    "# Compare your output with the provided one\n",
    "print (df_roi.columns)\n",
    "df_roi.head()"
   ]
  },
  {
   "cell_type": "markdown",
   "metadata": {},
   "source": [
    "***\n",
    "## Step-10: Iterate over DataFrame \n",
    "+ Use `.itertuples()` method to iterate over `df_roi` while producing named tuples\n",
    "* Inside of the `for`-loop, print only the value from the size column and the feature column\n",
    "    - Compare your output with the one provided "
   ]
  },
  {
   "cell_type": "code",
   "execution_count": null,
   "metadata": {},
   "outputs": [],
   "source": [
    "# YOUR CODE GOES HERE\n"
   ]
  },
  {
   "cell_type": "markdown",
   "metadata": {},
   "source": [
    "***\n",
    "## Step-11: Convert DataFrame into Dictionary\n",
    "+ Use the `.to_dict()` method to convert `df_roi` DataFrame to a dictionary object:\n",
    "    - Specify `orient='list'` as input parameter to the method\n",
    "    - Store the results in the `roi_dict` object\n",
    "+ Display the keys of the `roi_dict` and compare with the provided answer\n",
    "+ Iterate over the dictionary using `.items()` method:\n",
    "    - Print the key\n",
    "    - Print the value for this key\n",
    "    - Print a delimiter line\n",
    "Examine your output with the one provided"
   ]
  },
  {
   "cell_type": "code",
   "execution_count": 46,
   "metadata": {},
   "outputs": [],
   "source": [
    "# YOUR CODE GOES HERE"
   ]
  },
  {
   "cell_type": "code",
   "execution_count": 55,
   "metadata": {},
   "outputs": [
    {
     "name": "stdout",
     "output_type": "stream",
     "text": [
      "dict_keys(['feature', 'size', 'label', 'type'])\n"
     ]
    }
   ],
   "source": []
  },
  {
   "cell_type": "code",
   "execution_count": 60,
   "metadata": {},
   "outputs": [
    {
     "name": "stdout",
     "output_type": "stream",
     "text": [
      "feature\n",
      "['tract_to_msamd_income', 'rate_spread', 'population', 'minority_population', 'number_of_owner_occupied_units', 'number_of_1_to_4_family_units', 'loan_amount_000s', 'hud_median_family_income', 'applicant_income_000s', 'state_name', 'state_abbr', 'sequence_number', 'respondent_id', 'purchaser_type_name', 'property_type_name', 'preapproval_name', 'owner_occupancy_name', 'msamd_name', 'loan_type_name', 'loan_purpose_name', 'lien_status_name', 'hoepa_status_name', 'edit_status_name', 'denial_reason_name_3', 'denial_reason_name_2', 'denial_reason_name_1', 'county_name', 'co_applicant_sex_name', 'co_applicant_race_name_5', 'co_applicant_race_name_4', 'co_applicant_race_name_3', 'co_applicant_race_name_2', 'co_applicant_race_name_1', 'co_applicant_ethnicity_name', 'census_tract_number', 'as_of_year', 'application_date_indicator', 'applicant_sex_name', 'applicant_race_name_5', 'applicant_race_name_4', 'applicant_race_name_3', 'applicant_race_name_2', 'applicant_race_name_1', 'applicant_ethnicity_name', 'agency_name', 'agency_abbr', 'action_taken_name']\n",
      "------------------------------\n",
      "size\n",
      "['203722', '13173', '203722', '203722', '203722', '203722', '203848', '203722', '193458', '203848', '203848', '0', '203848', '203848', '203848', '203848', '203848', '173986', '203848', '203848', '203848', '203848', '0', '0', '0', '0', '203733', '203848', '2', '2', '25', '343', '203848', '203848', '203722', '203848', '0', '203848', '6', '15', '92', '1093', '203848', '203848', '203848', '203848', '203848']\n",
      "------------------------------\n",
      "label\n",
      "['non-null', 'non-null', 'non-null', 'non-null', 'non-null', 'non-null', 'non-null', 'non-null', 'non-null', 'non-null', 'non-null', 'non-null', 'non-null', 'non-null', 'non-null', 'non-null', 'non-null', 'non-null', 'non-null', 'non-null', 'non-null', 'non-null', 'non-null', 'non-null', 'non-null', 'non-null', 'non-null', 'non-null', 'non-null', 'non-null', 'non-null', 'non-null', 'non-null', 'non-null', 'non-null', 'non-null', 'non-null', 'non-null', 'non-null', 'non-null', 'non-null', 'non-null', 'non-null', 'non-null', 'non-null', 'non-null', 'non-null']\n",
      "------------------------------\n",
      "type\n",
      "['float64', 'float64', 'float64', 'float64', 'float64', 'float64', 'int64', 'float64', 'float64', 'object', 'object', 'float64', 'object', 'object', 'object', 'object', 'object', 'object', 'object', 'object', 'object', 'object', 'float64', 'float64', 'float64', 'float64', 'object', 'object', 'object', 'object', 'object', 'object', 'object', 'object', 'float64', 'int64', 'float64', 'object', 'object', 'object', 'object', 'object', 'object', 'object', 'object', 'object', 'object']\n",
      "------------------------------\n"
     ]
    }
   ],
   "source": []
  }
 ],
 "metadata": {
  "kernelspec": {
   "display_name": "Python 3",
   "language": "python",
   "name": "python3"
  },
  "language_info": {
   "codemirror_mode": {
    "name": "ipython",
    "version": 3
   },
   "file_extension": ".py",
   "mimetype": "text/x-python",
   "name": "python",
   "nbconvert_exporter": "python",
   "pygments_lexer": "ipython3",
   "version": "3.7.6"
  }
 },
 "nbformat": 4,
 "nbformat_minor": 2
}
